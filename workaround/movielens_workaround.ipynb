{
 "cells": [
  {
   "cell_type": "code",
   "execution_count": 1,
   "metadata": {
    "collapsed": true
   },
   "outputs": [],
   "source": [
    "from pyspark.sql import SparkSession\n",
    "spark = SparkSession.builder.appName(\"Capstone workaround\").getOrCreate()"
   ]
  },
  {
   "cell_type": "markdown",
   "source": [
    "# Quick analyze rating dataset"
   ],
   "metadata": {
    "collapsed": false
   }
  },
  {
   "cell_type": "code",
   "execution_count": 2,
   "outputs": [],
   "source": [
    "rating_df = spark.read.csv(\"../data/movielens/ratings.csv\", header=True, inferSchema=True)"
   ],
   "metadata": {
    "collapsed": false,
    "pycharm": {
     "name": "#%%\n"
    }
   }
  },
  {
   "cell_type": "code",
   "execution_count": 3,
   "outputs": [
    {
     "name": "stdout",
     "output_type": "stream",
     "text": [
      "+------+-------+------+----------+\n",
      "|userId|movieId|rating| timestamp|\n",
      "+------+-------+------+----------+\n",
      "|     1|    110|   1.0|1425941529|\n",
      "|     1|    147|   4.5|1425942435|\n",
      "|     1|    858|   5.0|1425941523|\n",
      "|     1|   1221|   5.0|1425941546|\n",
      "|     1|   1246|   5.0|1425941556|\n",
      "|     1|   1968|   4.0|1425942148|\n",
      "|     1|   2762|   4.5|1425941300|\n",
      "|     1|   2918|   5.0|1425941593|\n",
      "|     1|   2959|   4.0|1425941601|\n",
      "|     1|   4226|   4.0|1425942228|\n",
      "|     1|   4878|   5.0|1425941434|\n",
      "|     1|   5577|   5.0|1425941397|\n",
      "|     1|  33794|   4.0|1425942005|\n",
      "|     1|  54503|   3.5|1425941313|\n",
      "|     1|  58559|   4.0|1425942007|\n",
      "|     1|  59315|   5.0|1425941502|\n",
      "|     1|  68358|   5.0|1425941464|\n",
      "|     1|  69844|   5.0|1425942139|\n",
      "|     1|  73017|   5.0|1425942699|\n",
      "|     1|  81834|   5.0|1425942133|\n",
      "+------+-------+------+----------+\n",
      "only showing top 20 rows\n",
      "\n"
     ]
    }
   ],
   "source": [
    "rating_df.show()"
   ],
   "metadata": {
    "collapsed": false,
    "pycharm": {
     "name": "#%%\n"
    }
   }
  },
  {
   "cell_type": "code",
   "execution_count": 4,
   "outputs": [
    {
     "name": "stdout",
     "output_type": "stream",
     "text": [
      "root\n",
      " |-- userId: integer (nullable = true)\n",
      " |-- movieId: integer (nullable = true)\n",
      " |-- rating: double (nullable = true)\n",
      " |-- timestamp: integer (nullable = true)\n",
      "\n"
     ]
    }
   ],
   "source": [
    "rating_df.printSchema()"
   ],
   "metadata": {
    "collapsed": false,
    "pycharm": {
     "name": "#%%\n"
    }
   }
  },
  {
   "cell_type": "markdown",
   "source": [
    "## Check if there are any duplicate rows\n",
    "1 person (1 userId) can only rate 1 movie (1 movieId) once at a time, if the distinct of userId and movieId and timestamp is equal to the number of rows, then there are no duplicate rows"
   ],
   "metadata": {
    "collapsed": false
   }
  },
  {
   "cell_type": "code",
   "execution_count": 5,
   "outputs": [
    {
     "data": {
      "text/plain": "True"
     },
     "execution_count": 5,
     "metadata": {},
     "output_type": "execute_result"
    }
   ],
   "source": [
    "rating_df.select(\"userId\", \"movieId\", \"timestamp\").distinct().count() == rating_df.count()"
   ],
   "metadata": {
    "collapsed": false,
    "pycharm": {
     "name": "#%%\n"
    }
   }
  },
  {
   "cell_type": "markdown",
   "source": [
    "## Check if there are any null values"
   ],
   "metadata": {
    "collapsed": false
   }
  },
  {
   "cell_type": "code",
   "execution_count": 6,
   "outputs": [
    {
     "data": {
      "text/plain": "0"
     },
     "execution_count": 6,
     "metadata": {},
     "output_type": "execute_result"
    }
   ],
   "source": [
    "rating_df.filter(\"userId is null\").count()"
   ],
   "metadata": {
    "collapsed": false,
    "pycharm": {
     "name": "#%%\n"
    }
   }
  },
  {
   "cell_type": "code",
   "execution_count": 7,
   "outputs": [
    {
     "data": {
      "text/plain": "0"
     },
     "execution_count": 7,
     "metadata": {},
     "output_type": "execute_result"
    }
   ],
   "source": [
    "rating_df.filter(\"movieId is null\").count()"
   ],
   "metadata": {
    "collapsed": false,
    "pycharm": {
     "name": "#%%\n"
    }
   }
  },
  {
   "cell_type": "code",
   "execution_count": 8,
   "outputs": [
    {
     "data": {
      "text/plain": "0"
     },
     "execution_count": 8,
     "metadata": {},
     "output_type": "execute_result"
    }
   ],
   "source": [
    "rating_df.filter(\"rating is null\").count()"
   ],
   "metadata": {
    "collapsed": false,
    "pycharm": {
     "name": "#%%\n"
    }
   }
  },
  {
   "cell_type": "code",
   "execution_count": 9,
   "outputs": [
    {
     "data": {
      "text/plain": "0"
     },
     "execution_count": 9,
     "metadata": {},
     "output_type": "execute_result"
    }
   ],
   "source": [
    "rating_df.filter(\"timestamp is null\").count()"
   ],
   "metadata": {
    "collapsed": false,
    "pycharm": {
     "name": "#%%\n"
    }
   }
  },
  {
   "cell_type": "markdown",
   "source": [
    "## Check if there are any wrong values\n",
    "\n",
    "There are 2 type of wrong values:\n",
    "* Wrong data type\n",
    "* Wrong value when joining with other tables\n",
    "\n",
    "We will drop those rows"
   ],
   "metadata": {
    "collapsed": false
   }
  },
  {
   "cell_type": "markdown",
   "source": [
    "userId must have data type is integer"
   ],
   "metadata": {
    "collapsed": false
   }
  },
  {
   "cell_type": "code",
   "execution_count": 10,
   "outputs": [
    {
     "name": "stdout",
     "output_type": "stream",
     "text": [
      "+------+\n",
      "|userId|\n",
      "+------+\n",
      "|     1|\n",
      "|     1|\n",
      "|     1|\n",
      "|     1|\n",
      "|     1|\n",
      "|     1|\n",
      "|     1|\n",
      "|     1|\n",
      "|     1|\n",
      "|     1|\n",
      "|     1|\n",
      "|     1|\n",
      "|     1|\n",
      "|     1|\n",
      "|     1|\n",
      "|     1|\n",
      "|     1|\n",
      "|     1|\n",
      "|     1|\n",
      "|     1|\n",
      "+------+\n",
      "only showing top 20 rows\n",
      "\n"
     ]
    }
   ],
   "source": [
    "from py4j.protocol import Py4JJavaError\n",
    "\n",
    "try:\n",
    "    rating_df = rating_df.withColumn(\"userId\", rating_df[\"userId\"].cast(\"integer\"))\n",
    "    rating_df.select(\"userId\").limit(100).show()\n",
    "except Py4JJavaError:\n",
    "    print(\"userId column has wrong data type\")"
   ],
   "metadata": {
    "collapsed": false,
    "pycharm": {
     "name": "#%%\n"
    }
   }
  },
  {
   "cell_type": "markdown",
   "source": [
    "Rating in this dataset must have data type is integer, and it is from 1 to 5, if there is a value that is not in this range, it is wrong"
   ],
   "metadata": {
    "collapsed": false
   }
  },
  {
   "cell_type": "code",
   "execution_count": 11,
   "outputs": [
    {
     "name": "stdout",
     "output_type": "stream",
     "text": [
      "+------+\n",
      "|rating|\n",
      "+------+\n",
      "|     1|\n",
      "|     4|\n",
      "|     5|\n",
      "|     5|\n",
      "|     5|\n",
      "|     4|\n",
      "|     4|\n",
      "|     5|\n",
      "|     4|\n",
      "|     4|\n",
      "|     5|\n",
      "|     5|\n",
      "|     4|\n",
      "|     3|\n",
      "|     4|\n",
      "|     5|\n",
      "|     5|\n",
      "|     5|\n",
      "|     5|\n",
      "|     5|\n",
      "+------+\n",
      "only showing top 20 rows\n",
      "\n"
     ]
    }
   ],
   "source": [
    "from py4j.protocol import Py4JJavaError\n",
    "\n",
    "try:\n",
    "    rating_df = rating_df.withColumn(\"rating\", rating_df[\"rating\"].cast(\"integer\"))\n",
    "    rating_df.select(\"rating\").limit(100).show()\n",
    "except Py4JJavaError:\n",
    "    print(\"rating column has wrong data type\")"
   ],
   "metadata": {
    "collapsed": false,
    "pycharm": {
     "name": "#%%\n"
    }
   }
  },
  {
   "cell_type": "code",
   "execution_count": 12,
   "outputs": [
    {
     "data": {
      "text/plain": "404897"
     },
     "execution_count": 12,
     "metadata": {},
     "output_type": "execute_result"
    }
   ],
   "source": [
    "rating_df.filter(\"rating <= 0 or rating > 5\").count()"
   ],
   "metadata": {
    "collapsed": false,
    "pycharm": {
     "name": "#%%\n"
    }
   }
  },
  {
   "cell_type": "markdown",
   "source": [
    "Check if there is any value in timestamp column that is not a valid timestamp"
   ],
   "metadata": {
    "collapsed": false
   }
  },
  {
   "cell_type": "code",
   "execution_count": 13,
   "outputs": [
    {
     "name": "stdout",
     "output_type": "stream",
     "text": [
      "+-------------------+\n",
      "|          timestamp|\n",
      "+-------------------+\n",
      "|2015-03-10 05:52:09|\n",
      "|2015-03-10 06:07:15|\n",
      "|2015-03-10 05:52:03|\n",
      "|2015-03-10 05:52:26|\n",
      "|2015-03-10 05:52:36|\n",
      "|2015-03-10 06:02:28|\n",
      "|2015-03-10 05:48:20|\n",
      "|2015-03-10 05:53:13|\n",
      "|2015-03-10 05:53:21|\n",
      "|2015-03-10 06:03:48|\n",
      "|2015-03-10 05:50:34|\n",
      "|2015-03-10 05:49:57|\n",
      "|2015-03-10 06:00:05|\n",
      "|2015-03-10 05:48:33|\n",
      "|2015-03-10 06:00:07|\n",
      "|2015-03-10 05:51:42|\n",
      "|2015-03-10 05:51:04|\n",
      "|2015-03-10 06:02:19|\n",
      "|2015-03-10 06:11:39|\n",
      "|2015-03-10 06:02:13|\n",
      "+-------------------+\n",
      "only showing top 20 rows\n",
      "\n"
     ]
    }
   ],
   "source": [
    "from py4j.protocol import Py4JJavaError\n",
    "\n",
    "try:\n",
    "    rating_df = rating_df.withColumn(\"timestamp\", rating_df[\"timestamp\"].cast(\"timestamp\"))\n",
    "    rating_df.select(\"timestamp\").limit(100).show()\n",
    "except Py4JJavaError:\n",
    "    print(\"Timestamp column has wrong data type\")"
   ],
   "metadata": {
    "collapsed": false,
    "pycharm": {
     "name": "#%%\n"
    }
   }
  },
  {
   "cell_type": "markdown",
   "source": [
    "# Quick analyze movie dataset"
   ],
   "metadata": {
    "collapsed": false
   }
  },
  {
   "cell_type": "code",
   "execution_count": 14,
   "outputs": [],
   "source": [
    "movies_df = spark.read.csv(\"../data/movielens/movies_metadata.csv\", header=True, inferSchema=True)"
   ],
   "metadata": {
    "collapsed": false,
    "pycharm": {
     "name": "#%%\n"
    }
   }
  },
  {
   "cell_type": "code",
   "execution_count": 15,
   "outputs": [
    {
     "data": {
      "text/plain": "45572"
     },
     "execution_count": 15,
     "metadata": {},
     "output_type": "execute_result"
    }
   ],
   "source": [
    "movies_df.count()"
   ],
   "metadata": {
    "collapsed": false,
    "pycharm": {
     "name": "#%%\n"
    }
   }
  },
  {
   "cell_type": "code",
   "execution_count": 16,
   "outputs": [
    {
     "data": {
      "text/plain": "[Row(imdb_id='tt0114709', title='Toy Story'),\n Row(imdb_id='tt0113497', title='Jumanji'),\n Row(imdb_id='tt0113228', title='Grumpier Old Men'),\n Row(imdb_id='tt0114885', title=\"[{'iso_639_1': 'en', 'name': 'English'}]\"),\n Row(imdb_id='tt0113041', title='Father of the Bride Part II'),\n Row(imdb_id='tt0113277', title='Heat'),\n Row(imdb_id='tt0114319', title='Sabrina'),\n Row(imdb_id='tt0112302', title='Tom and Huck'),\n Row(imdb_id='tt0114576', title='Sudden Death'),\n Row(imdb_id='tt0113189', title='GoldenEye')]"
     },
     "execution_count": 16,
     "metadata": {},
     "output_type": "execute_result"
    }
   ],
   "source": [
    "movies_df.select([\"imdb_id\", \"title\"]).take(10)"
   ],
   "metadata": {
    "collapsed": false,
    "pycharm": {
     "name": "#%%\n"
    }
   }
  },
  {
   "cell_type": "code",
   "execution_count": 17,
   "outputs": [
    {
     "name": "stdout",
     "output_type": "stream",
     "text": [
      "root\n",
      " |-- adult: string (nullable = true)\n",
      " |-- belongs_to_collection: string (nullable = true)\n",
      " |-- budget: string (nullable = true)\n",
      " |-- genres: string (nullable = true)\n",
      " |-- homepage: string (nullable = true)\n",
      " |-- id: string (nullable = true)\n",
      " |-- imdb_id: string (nullable = true)\n",
      " |-- original_language: string (nullable = true)\n",
      " |-- original_title: string (nullable = true)\n",
      " |-- overview: string (nullable = true)\n",
      " |-- popularity: string (nullable = true)\n",
      " |-- poster_path: string (nullable = true)\n",
      " |-- production_companies: string (nullable = true)\n",
      " |-- production_countries: string (nullable = true)\n",
      " |-- release_date: string (nullable = true)\n",
      " |-- revenue: string (nullable = true)\n",
      " |-- runtime: string (nullable = true)\n",
      " |-- spoken_languages: string (nullable = true)\n",
      " |-- status: string (nullable = true)\n",
      " |-- tagline: string (nullable = true)\n",
      " |-- title: string (nullable = true)\n",
      " |-- video: string (nullable = true)\n",
      " |-- vote_average: string (nullable = true)\n",
      " |-- vote_count: string (nullable = true)\n",
      "\n"
     ]
    }
   ],
   "source": [
    "movies_df.printSchema()"
   ],
   "metadata": {
    "collapsed": false,
    "pycharm": {
     "name": "#%%\n"
    }
   }
  },
  {
   "cell_type": "markdown",
   "source": [
    "We will only use these columns:\n",
    "* id: reference to the movieId column in to the ratings dataset\n",
    "* imdb_id: reference to the titleId in the imdb dataset\n",
    "\n"
   ],
   "metadata": {
    "collapsed": false
   }
  },
  {
   "cell_type": "markdown",
   "source": [
    "## Check if there are any duplicate rows"
   ],
   "metadata": {
    "collapsed": false
   }
  },
  {
   "cell_type": "markdown",
   "source": [
    "Check if there is duplicate id in the movie dataset"
   ],
   "metadata": {
    "collapsed": false
   }
  },
  {
   "cell_type": "code",
   "execution_count": 18,
   "outputs": [
    {
     "data": {
      "text/plain": "47"
     },
     "execution_count": 18,
     "metadata": {},
     "output_type": "execute_result"
    }
   ],
   "source": [
    "movies_df.select(\"id\").groupby(\"id\").count().filter(\"count > 1\").count()"
   ],
   "metadata": {
    "collapsed": false,
    "pycharm": {
     "name": "#%%\n"
    }
   }
  },
  {
   "cell_type": "markdown",
   "source": [
    "There are duplicate rows for id column, so we need to drop them"
   ],
   "metadata": {
    "collapsed": false
   }
  },
  {
   "cell_type": "code",
   "execution_count": 19,
   "outputs": [],
   "source": [
    "movies_df = movies_df.dropDuplicates([\"id\"])"
   ],
   "metadata": {
    "collapsed": false,
    "pycharm": {
     "name": "#%%\n"
    }
   }
  },
  {
   "cell_type": "markdown",
   "source": [
    "Check duplicate rows for id column again"
   ],
   "metadata": {
    "collapsed": false
   }
  },
  {
   "cell_type": "code",
   "execution_count": 20,
   "outputs": [
    {
     "data": {
      "text/plain": "0"
     },
     "execution_count": 20,
     "metadata": {},
     "output_type": "execute_result"
    }
   ],
   "source": [
    "movies_df.select(\"id\").groupby(\"id\").count().filter(\"count > 1\").count()"
   ],
   "metadata": {
    "collapsed": false,
    "pycharm": {
     "name": "#%%\n"
    }
   }
  },
  {
   "cell_type": "markdown",
   "source": [
    "Another column we need to check for duplicate rows is imdb_id, which is an id referencing to the movie on IMDB website"
   ],
   "metadata": {
    "collapsed": false
   }
  },
  {
   "cell_type": "code",
   "execution_count": 21,
   "outputs": [
    {
     "data": {
      "text/plain": "5"
     },
     "execution_count": 21,
     "metadata": {},
     "output_type": "execute_result"
    }
   ],
   "source": [
    "movies_df.select(\"imdb_id\").groupby(\"imdb_id\").count().filter(\"count > 1\").count()"
   ],
   "metadata": {
    "collapsed": false,
    "pycharm": {
     "name": "#%%\n"
    }
   }
  },
  {
   "cell_type": "markdown",
   "source": [
    "There are duplicate rows for imdb_id column, so we need to drop them"
   ],
   "metadata": {
    "collapsed": false
   }
  },
  {
   "cell_type": "code",
   "execution_count": 22,
   "outputs": [],
   "source": [
    "movies_df = movies_df.dropDuplicates([\"imdb_id\"])"
   ],
   "metadata": {
    "collapsed": false,
    "pycharm": {
     "name": "#%%\n"
    }
   }
  },
  {
   "cell_type": "markdown",
   "source": [
    "Check duplicate rows for imdb_id column again"
   ],
   "metadata": {
    "collapsed": false
   }
  },
  {
   "cell_type": "code",
   "execution_count": 23,
   "outputs": [
    {
     "data": {
      "text/plain": "0"
     },
     "execution_count": 23,
     "metadata": {},
     "output_type": "execute_result"
    }
   ],
   "source": [
    "movies_df.select(\"imdb_id\").groupby(\"imdb_id\").count().filter(\"count > 1\").count()"
   ],
   "metadata": {
    "collapsed": false,
    "pycharm": {
     "name": "#%%\n"
    }
   }
  },
  {
   "cell_type": "markdown",
   "source": [
    "## Check if there are any null values"
   ],
   "metadata": {
    "collapsed": false
   }
  },
  {
   "cell_type": "code",
   "execution_count": 24,
   "outputs": [
    {
     "data": {
      "text/plain": "0"
     },
     "execution_count": 24,
     "metadata": {},
     "output_type": "execute_result"
    }
   ],
   "source": [
    "movies_df.filter(\"id is null\").count()"
   ],
   "metadata": {
    "collapsed": false,
    "pycharm": {
     "name": "#%%\n"
    }
   }
  },
  {
   "cell_type": "code",
   "execution_count": 25,
   "outputs": [
    {
     "data": {
      "text/plain": "1"
     },
     "execution_count": 25,
     "metadata": {},
     "output_type": "execute_result"
    }
   ],
   "source": [
    "movies_df.filter(\"imdb_id is null\").count()"
   ],
   "metadata": {
    "collapsed": false,
    "pycharm": {
     "name": "#%%\n"
    }
   }
  },
  {
   "cell_type": "markdown",
   "source": [
    "There are null value in the imdb_id column, so we need to drop them"
   ],
   "metadata": {
    "collapsed": false
   }
  },
  {
   "cell_type": "code",
   "execution_count": 26,
   "outputs": [],
   "source": [
    "movies_df = movies_df.dropna(subset=[\"imdb_id\"])"
   ],
   "metadata": {
    "collapsed": false,
    "pycharm": {
     "name": "#%%\n"
    }
   }
  },
  {
   "cell_type": "markdown",
   "source": [
    "Check if imdb_id has any null value left"
   ],
   "metadata": {
    "collapsed": false
   }
  },
  {
   "cell_type": "code",
   "execution_count": 27,
   "outputs": [
    {
     "data": {
      "text/plain": "0"
     },
     "execution_count": 27,
     "metadata": {},
     "output_type": "execute_result"
    }
   ],
   "source": [
    "movies_df.filter(\"imdb_id is null\").count()"
   ],
   "metadata": {
    "collapsed": false,
    "pycharm": {
     "name": "#%%\n"
    }
   }
  },
  {
   "cell_type": "markdown",
   "source": [
    "## Check if there are any wrong values"
   ],
   "metadata": {
    "collapsed": false
   }
  },
  {
   "cell_type": "markdown",
   "source": [
    "Movie id must have data type is integer, so we need to check that."
   ],
   "metadata": {
    "collapsed": false
   }
  },
  {
   "cell_type": "code",
   "execution_count": 28,
   "outputs": [
    {
     "name": "stdout",
     "output_type": "stream",
     "text": [
      "+------+\n",
      "|    id|\n",
      "+------+\n",
      "|151831|\n",
      "| 51359|\n",
      "| 42565|\n",
      "| 42641|\n",
      "| 50072|\n",
      "| 37215|\n",
      "|195522|\n",
      "| 72640|\n",
      "|171346|\n",
      "| 38456|\n",
      "|   914|\n",
      "|  3085|\n",
      "| 75315|\n",
      "| 78315|\n",
      "|209367|\n",
      "| 33039|\n",
      "| 18783|\n",
      "| 42191|\n",
      "| 36706|\n",
      "| 40824|\n",
      "+------+\n",
      "only showing top 20 rows\n",
      "\n"
     ]
    }
   ],
   "source": [
    "from py4j.protocol import Py4JJavaError\n",
    "\n",
    "try:\n",
    "    movies_df = movies_df.withColumn(\"id\", movies_df[\"id\"].cast(\"integer\"))\n",
    "    movies_df.select(\"id\").limit(100).show()\n",
    "except Py4JJavaError:\n",
    "    print(\"userId column has wrong data type\")"
   ],
   "metadata": {
    "collapsed": false,
    "pycharm": {
     "name": "#%%\n"
    }
   }
  },
  {
   "cell_type": "markdown",
   "source": [
    "imdb_id format must be \"ttxxxxxxx\", so we need to remove any other values that does not match this format"
   ],
   "metadata": {
    "collapsed": false
   }
  },
  {
   "cell_type": "code",
   "execution_count": 29,
   "outputs": [],
   "source": [
    "movies_df = movies_df.withColumn(\"imdb_id\", movies_df[\"imdb_id\"].cast(\"string\")).filter(\"imdb_id rlike '^tt[0-9]{7}$'\")"
   ],
   "metadata": {
    "collapsed": false,
    "pycharm": {
     "name": "#%%\n"
    }
   }
  },
  {
   "cell_type": "markdown",
   "source": [
    "## Check matching between movieId in ratings dataset and id in movies dataset"
   ],
   "metadata": {
    "collapsed": false
   }
  },
  {
   "cell_type": "code",
   "execution_count": 30,
   "outputs": [],
   "source": [
    "movielens = rating_df.join(movies_df, rating_df[\"movieId\"] == movies_df[\"id\"], how=\"inner\")"
   ],
   "metadata": {
    "collapsed": false,
    "pycharm": {
     "name": "#%%\n"
    }
   }
  },
  {
   "cell_type": "code",
   "execution_count": 31,
   "outputs": [
    {
     "data": {
      "text/plain": "11351787"
     },
     "execution_count": 31,
     "metadata": {},
     "output_type": "execute_result"
    }
   ],
   "source": [
    "movielens.count()"
   ],
   "metadata": {
    "collapsed": false,
    "pycharm": {
     "name": "#%%\n"
    }
   }
  },
  {
   "cell_type": "code",
   "execution_count": 32,
   "outputs": [
    {
     "data": {
      "text/plain": "[Row(userId=337, movieId=148, rating=4, timestamp=datetime.datetime(1999, 12, 11, 23, 45, 40), adult='False', belongs_to_collection=None, budget='5000000', genres=\"[{'id': 18, 'name': 'Drama'}, {'id': 10749, 'name': 'Romance'}]\", homepage=None, id=148, imdb_id='tt0430576', original_language='en', original_title='The Secret Life of Words', overview='A touching story of a deaf girl who is sent to an oil rig to take care of a man who has been blinded in a terrible accident. The girl has a special ability to communicate with the men on board and especially with her patient as they share intimate moments together that will change their lives forever.', popularity='12.775583', poster_path='/rlJWRiW74PAIrozd2d6X7e61Rq9.jpg', production_companies=\"[{'name': 'Hotshot Films', 'id': 78}]\", production_countries=\"[{'iso_3166_1': 'ES', 'name': 'Spain'}]\", release_date='2005-12-15', revenue='0', runtime='112.0', spoken_languages=\"[{'iso_639_1': 'en', 'name': 'English'}, {'iso_639_1': 'fr', 'name': 'Français'}, {'iso_639_1': 'es', 'name': 'Español'}]\", status='Released', tagline=None, title='The Secret Life of Words', video='False', vote_average='6.8', vote_count='52'),\n Row(userId=619, movieId=148, rating=2, timestamp=datetime.datetime(1996, 5, 9, 9, 31, 45), adult='False', belongs_to_collection=None, budget='5000000', genres=\"[{'id': 18, 'name': 'Drama'}, {'id': 10749, 'name': 'Romance'}]\", homepage=None, id=148, imdb_id='tt0430576', original_language='en', original_title='The Secret Life of Words', overview='A touching story of a deaf girl who is sent to an oil rig to take care of a man who has been blinded in a terrible accident. The girl has a special ability to communicate with the men on board and especially with her patient as they share intimate moments together that will change their lives forever.', popularity='12.775583', poster_path='/rlJWRiW74PAIrozd2d6X7e61Rq9.jpg', production_companies=\"[{'name': 'Hotshot Films', 'id': 78}]\", production_countries=\"[{'iso_3166_1': 'ES', 'name': 'Spain'}]\", release_date='2005-12-15', revenue='0', runtime='112.0', spoken_languages=\"[{'iso_639_1': 'en', 'name': 'English'}, {'iso_639_1': 'fr', 'name': 'Français'}, {'iso_639_1': 'es', 'name': 'Español'}]\", status='Released', tagline=None, title='The Secret Life of Words', video='False', vote_average='6.8', vote_count='52'),\n Row(userId=3030, movieId=148, rating=4, timestamp=datetime.datetime(2017, 3, 28, 10, 31, 34), adult='False', belongs_to_collection=None, budget='5000000', genres=\"[{'id': 18, 'name': 'Drama'}, {'id': 10749, 'name': 'Romance'}]\", homepage=None, id=148, imdb_id='tt0430576', original_language='en', original_title='The Secret Life of Words', overview='A touching story of a deaf girl who is sent to an oil rig to take care of a man who has been blinded in a terrible accident. The girl has a special ability to communicate with the men on board and especially with her patient as they share intimate moments together that will change their lives forever.', popularity='12.775583', poster_path='/rlJWRiW74PAIrozd2d6X7e61Rq9.jpg', production_companies=\"[{'name': 'Hotshot Films', 'id': 78}]\", production_countries=\"[{'iso_3166_1': 'ES', 'name': 'Spain'}]\", release_date='2005-12-15', revenue='0', runtime='112.0', spoken_languages=\"[{'iso_639_1': 'en', 'name': 'English'}, {'iso_639_1': 'fr', 'name': 'Français'}, {'iso_639_1': 'es', 'name': 'Español'}]\", status='Released', tagline=None, title='The Secret Life of Words', video='False', vote_average='6.8', vote_count='52'),\n Row(userId=5261, movieId=148, rating=3, timestamp=datetime.datetime(1996, 9, 12, 0, 34, 44), adult='False', belongs_to_collection=None, budget='5000000', genres=\"[{'id': 18, 'name': 'Drama'}, {'id': 10749, 'name': 'Romance'}]\", homepage=None, id=148, imdb_id='tt0430576', original_language='en', original_title='The Secret Life of Words', overview='A touching story of a deaf girl who is sent to an oil rig to take care of a man who has been blinded in a terrible accident. The girl has a special ability to communicate with the men on board and especially with her patient as they share intimate moments together that will change their lives forever.', popularity='12.775583', poster_path='/rlJWRiW74PAIrozd2d6X7e61Rq9.jpg', production_companies=\"[{'name': 'Hotshot Films', 'id': 78}]\", production_countries=\"[{'iso_3166_1': 'ES', 'name': 'Spain'}]\", release_date='2005-12-15', revenue='0', runtime='112.0', spoken_languages=\"[{'iso_639_1': 'en', 'name': 'English'}, {'iso_639_1': 'fr', 'name': 'Français'}, {'iso_639_1': 'es', 'name': 'Español'}]\", status='Released', tagline=None, title='The Secret Life of Words', video='False', vote_average='6.8', vote_count='52'),\n Row(userId=6697, movieId=148, rating=3, timestamp=datetime.datetime(1996, 6, 4, 3, 10, 13), adult='False', belongs_to_collection=None, budget='5000000', genres=\"[{'id': 18, 'name': 'Drama'}, {'id': 10749, 'name': 'Romance'}]\", homepage=None, id=148, imdb_id='tt0430576', original_language='en', original_title='The Secret Life of Words', overview='A touching story of a deaf girl who is sent to an oil rig to take care of a man who has been blinded in a terrible accident. The girl has a special ability to communicate with the men on board and especially with her patient as they share intimate moments together that will change their lives forever.', popularity='12.775583', poster_path='/rlJWRiW74PAIrozd2d6X7e61Rq9.jpg', production_companies=\"[{'name': 'Hotshot Films', 'id': 78}]\", production_countries=\"[{'iso_3166_1': 'ES', 'name': 'Spain'}]\", release_date='2005-12-15', revenue='0', runtime='112.0', spoken_languages=\"[{'iso_639_1': 'en', 'name': 'English'}, {'iso_639_1': 'fr', 'name': 'Français'}, {'iso_639_1': 'es', 'name': 'Español'}]\", status='Released', tagline=None, title='The Secret Life of Words', video='False', vote_average='6.8', vote_count='52'),\n Row(userId=7052, movieId=148, rating=5, timestamp=datetime.datetime(2002, 6, 12, 6, 21, 1), adult='False', belongs_to_collection=None, budget='5000000', genres=\"[{'id': 18, 'name': 'Drama'}, {'id': 10749, 'name': 'Romance'}]\", homepage=None, id=148, imdb_id='tt0430576', original_language='en', original_title='The Secret Life of Words', overview='A touching story of a deaf girl who is sent to an oil rig to take care of a man who has been blinded in a terrible accident. The girl has a special ability to communicate with the men on board and especially with her patient as they share intimate moments together that will change their lives forever.', popularity='12.775583', poster_path='/rlJWRiW74PAIrozd2d6X7e61Rq9.jpg', production_companies=\"[{'name': 'Hotshot Films', 'id': 78}]\", production_countries=\"[{'iso_3166_1': 'ES', 'name': 'Spain'}]\", release_date='2005-12-15', revenue='0', runtime='112.0', spoken_languages=\"[{'iso_639_1': 'en', 'name': 'English'}, {'iso_639_1': 'fr', 'name': 'Français'}, {'iso_639_1': 'es', 'name': 'Español'}]\", status='Released', tagline=None, title='The Secret Life of Words', video='False', vote_average='6.8', vote_count='52'),\n Row(userId=7190, movieId=148, rating=4, timestamp=datetime.datetime(2002, 2, 2, 6, 11, 46), adult='False', belongs_to_collection=None, budget='5000000', genres=\"[{'id': 18, 'name': 'Drama'}, {'id': 10749, 'name': 'Romance'}]\", homepage=None, id=148, imdb_id='tt0430576', original_language='en', original_title='The Secret Life of Words', overview='A touching story of a deaf girl who is sent to an oil rig to take care of a man who has been blinded in a terrible accident. The girl has a special ability to communicate with the men on board and especially with her patient as they share intimate moments together that will change their lives forever.', popularity='12.775583', poster_path='/rlJWRiW74PAIrozd2d6X7e61Rq9.jpg', production_companies=\"[{'name': 'Hotshot Films', 'id': 78}]\", production_countries=\"[{'iso_3166_1': 'ES', 'name': 'Spain'}]\", release_date='2005-12-15', revenue='0', runtime='112.0', spoken_languages=\"[{'iso_639_1': 'en', 'name': 'English'}, {'iso_639_1': 'fr', 'name': 'Français'}, {'iso_639_1': 'es', 'name': 'Español'}]\", status='Released', tagline=None, title='The Secret Life of Words', video='False', vote_average='6.8', vote_count='52'),\n Row(userId=7238, movieId=148, rating=3, timestamp=datetime.datetime(2000, 10, 19, 2, 49, 41), adult='False', belongs_to_collection=None, budget='5000000', genres=\"[{'id': 18, 'name': 'Drama'}, {'id': 10749, 'name': 'Romance'}]\", homepage=None, id=148, imdb_id='tt0430576', original_language='en', original_title='The Secret Life of Words', overview='A touching story of a deaf girl who is sent to an oil rig to take care of a man who has been blinded in a terrible accident. The girl has a special ability to communicate with the men on board and especially with her patient as they share intimate moments together that will change their lives forever.', popularity='12.775583', poster_path='/rlJWRiW74PAIrozd2d6X7e61Rq9.jpg', production_companies=\"[{'name': 'Hotshot Films', 'id': 78}]\", production_countries=\"[{'iso_3166_1': 'ES', 'name': 'Spain'}]\", release_date='2005-12-15', revenue='0', runtime='112.0', spoken_languages=\"[{'iso_639_1': 'en', 'name': 'English'}, {'iso_639_1': 'fr', 'name': 'Français'}, {'iso_639_1': 'es', 'name': 'Español'}]\", status='Released', tagline=None, title='The Secret Life of Words', video='False', vote_average='6.8', vote_count='52'),\n Row(userId=7348, movieId=148, rating=4, timestamp=datetime.datetime(2015, 2, 2, 2, 4, 54), adult='False', belongs_to_collection=None, budget='5000000', genres=\"[{'id': 18, 'name': 'Drama'}, {'id': 10749, 'name': 'Romance'}]\", homepage=None, id=148, imdb_id='tt0430576', original_language='en', original_title='The Secret Life of Words', overview='A touching story of a deaf girl who is sent to an oil rig to take care of a man who has been blinded in a terrible accident. The girl has a special ability to communicate with the men on board and especially with her patient as they share intimate moments together that will change their lives forever.', popularity='12.775583', poster_path='/rlJWRiW74PAIrozd2d6X7e61Rq9.jpg', production_companies=\"[{'name': 'Hotshot Films', 'id': 78}]\", production_countries=\"[{'iso_3166_1': 'ES', 'name': 'Spain'}]\", release_date='2005-12-15', revenue='0', runtime='112.0', spoken_languages=\"[{'iso_639_1': 'en', 'name': 'English'}, {'iso_639_1': 'fr', 'name': 'Français'}, {'iso_639_1': 'es', 'name': 'Español'}]\", status='Released', tagline=None, title='The Secret Life of Words', video='False', vote_average='6.8', vote_count='52'),\n Row(userId=8659, movieId=148, rating=3, timestamp=datetime.datetime(2006, 1, 24, 1, 41, 44), adult='False', belongs_to_collection=None, budget='5000000', genres=\"[{'id': 18, 'name': 'Drama'}, {'id': 10749, 'name': 'Romance'}]\", homepage=None, id=148, imdb_id='tt0430576', original_language='en', original_title='The Secret Life of Words', overview='A touching story of a deaf girl who is sent to an oil rig to take care of a man who has been blinded in a terrible accident. The girl has a special ability to communicate with the men on board and especially with her patient as they share intimate moments together that will change their lives forever.', popularity='12.775583', poster_path='/rlJWRiW74PAIrozd2d6X7e61Rq9.jpg', production_companies=\"[{'name': 'Hotshot Films', 'id': 78}]\", production_countries=\"[{'iso_3166_1': 'ES', 'name': 'Spain'}]\", release_date='2005-12-15', revenue='0', runtime='112.0', spoken_languages=\"[{'iso_639_1': 'en', 'name': 'English'}, {'iso_639_1': 'fr', 'name': 'Français'}, {'iso_639_1': 'es', 'name': 'Español'}]\", status='Released', tagline=None, title='The Secret Life of Words', video='False', vote_average='6.8', vote_count='52')]"
     },
     "execution_count": 32,
     "metadata": {},
     "output_type": "execute_result"
    }
   ],
   "source": [
    "movielens.take(10)"
   ],
   "metadata": {
    "collapsed": false,
    "pycharm": {
     "name": "#%%\n"
    }
   }
  },
  {
   "cell_type": "code",
   "execution_count": 33,
   "outputs": [
    {
     "name": "stdout",
     "output_type": "stream",
     "text": [
      "root\n",
      " |-- userId: integer (nullable = true)\n",
      " |-- movieId: integer (nullable = true)\n",
      " |-- rating: integer (nullable = true)\n",
      " |-- timestamp: timestamp (nullable = true)\n",
      " |-- adult: string (nullable = true)\n",
      " |-- belongs_to_collection: string (nullable = true)\n",
      " |-- budget: string (nullable = true)\n",
      " |-- genres: string (nullable = true)\n",
      " |-- homepage: string (nullable = true)\n",
      " |-- id: integer (nullable = true)\n",
      " |-- imdb_id: string (nullable = true)\n",
      " |-- original_language: string (nullable = true)\n",
      " |-- original_title: string (nullable = true)\n",
      " |-- overview: string (nullable = true)\n",
      " |-- popularity: string (nullable = true)\n",
      " |-- poster_path: string (nullable = true)\n",
      " |-- production_companies: string (nullable = true)\n",
      " |-- production_countries: string (nullable = true)\n",
      " |-- release_date: string (nullable = true)\n",
      " |-- revenue: string (nullable = true)\n",
      " |-- runtime: string (nullable = true)\n",
      " |-- spoken_languages: string (nullable = true)\n",
      " |-- status: string (nullable = true)\n",
      " |-- tagline: string (nullable = true)\n",
      " |-- title: string (nullable = true)\n",
      " |-- video: string (nullable = true)\n",
      " |-- vote_average: string (nullable = true)\n",
      " |-- vote_count: string (nullable = true)\n",
      "\n"
     ]
    }
   ],
   "source": [
    "movielens.printSchema()"
   ],
   "metadata": {
    "collapsed": false,
    "pycharm": {
     "name": "#%%\n"
    }
   }
  },
  {
   "cell_type": "code",
   "execution_count": 35,
   "outputs": [],
   "source": [
    "cols_to_drop = (\"adult\",\n",
    "                \"belongs_to_collection\",\n",
    "                \"budget\",\n",
    "                \"genres\",\n",
    "                \"homepage\",\n",
    "                \"id\",\n",
    "                \"original_language\",\n",
    "                \"overview\",\n",
    "                \"popularity\",\n",
    "                \"poster_path\",\n",
    "                \"production_companies\",\n",
    "                \"production_countries\",\n",
    "                \"release_date\",\n",
    "                \"revenue\",\n",
    "                \"runtime\",\n",
    "                \"spoken_languages\",\n",
    "                \"status\",\n",
    "                \"tagline\",\n",
    "                \"video\",\n",
    "                \"vote_average\",\n",
    "                \"vote_count\")\n",
    "movielens = movielens.drop(*cols_to_drop)"
   ],
   "metadata": {
    "collapsed": false,
    "pycharm": {
     "name": "#%%\n"
    }
   }
  },
  {
   "cell_type": "code",
   "execution_count": 36,
   "outputs": [
    {
     "name": "stdout",
     "output_type": "stream",
     "text": [
      "root\n",
      " |-- userId: integer (nullable = true)\n",
      " |-- movieId: integer (nullable = true)\n",
      " |-- rating: integer (nullable = true)\n",
      " |-- timestamp: timestamp (nullable = true)\n",
      " |-- imdb_id: string (nullable = true)\n",
      " |-- original_title: string (nullable = true)\n",
      " |-- title: string (nullable = true)\n",
      "\n"
     ]
    }
   ],
   "source": [
    "movielens.printSchema()"
   ],
   "metadata": {
    "collapsed": false,
    "pycharm": {
     "name": "#%%\n"
    }
   }
  },
  {
   "cell_type": "code",
   "execution_count": 38,
   "outputs": [
    {
     "name": "stdout",
     "output_type": "stream",
     "text": [
      "+------+-------+------+-------------------+---------+--------------------+--------------------+\n",
      "|userId|movieId|rating|          timestamp|  imdb_id|      original_title|               title|\n",
      "+------+-------+------+-------------------+---------+--------------------+--------------------+\n",
      "|     1|    110|     1|2015-03-10 05:52:09|tt0111495|Trois couleurs : ...|   Three Colors: Red|\n",
      "|     1|    147|     4|2015-03-10 06:07:15|tt0053198|Les Quatre Cents ...|       The 400 Blows|\n",
      "|     1|    858|     5|2015-03-10 05:52:03|tt0108160|Sleepless in Seattle|Sleepless in Seattle|\n",
      "|     1|   1246|     5|2015-03-10 05:52:36|tt0479143|        Rocky Balboa|        Rocky Balboa|\n",
      "|     1|   1968|     4|2015-03-10 06:02:28|tt0119141|       Fools Rush In|       Fools Rush In|\n",
      "|     1|   2762|     4|2015-03-10 05:48:20|tt0029811|  Young and Innocent|/8teH96d4Hcg1BWwC...|\n",
      "|     1|   2959|     4|2015-03-10 05:53:21|tt0762114|      License to Wed|First came love.....|\n",
      "|     1|   4226|     4|2015-03-10 06:03:48|tt0212235|Shriek If You Kno...|Shriek If You Kno...|\n",
      "|     1|  54503|     3|2015-03-10 05:48:33|tt0199813| Shuang ma lian huan|The Mystery of Ch...|\n",
      "|     1|  58559|     4|2015-03-10 06:00:07|tt1865335|Confession of a C...|Confession of a C...|\n",
      "+------+-------+------+-------------------+---------+--------------------+--------------------+\n",
      "only showing top 10 rows\n",
      "\n"
     ]
    }
   ],
   "source": [
    "movielens.show(10)"
   ],
   "metadata": {
    "collapsed": false,
    "pycharm": {
     "name": "#%%\n"
    }
   }
  }
 ],
 "metadata": {
  "kernelspec": {
   "display_name": "Python 3",
   "language": "python",
   "name": "python3"
  },
  "language_info": {
   "codemirror_mode": {
    "name": "ipython",
    "version": 2
   },
   "file_extension": ".py",
   "mimetype": "text/x-python",
   "name": "python",
   "nbconvert_exporter": "python",
   "pygments_lexer": "ipython2",
   "version": "2.7.6"
  }
 },
 "nbformat": 4,
 "nbformat_minor": 0
}