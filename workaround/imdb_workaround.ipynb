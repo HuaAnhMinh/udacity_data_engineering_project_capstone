{
 "cells": [
  {
   "cell_type": "code",
   "execution_count": 2,
   "metadata": {
    "collapsed": true
   },
   "outputs": [],
   "source": [
    "from pyspark.sql import SparkSession\n",
    "spark = SparkSession.builder.appName(\"Capstone workaround\").getOrCreate()"
   ]
  },
  {
   "cell_type": "code",
   "execution_count": 3,
   "outputs": [],
   "source": [
    "data_df = spark.read.csv(\"../data/imdb/data.tsv\", header=True, sep=\"\\t\")"
   ],
   "metadata": {
    "collapsed": false,
    "pycharm": {
     "name": "#%%\n"
    }
   }
  },
  {
   "cell_type": "code",
   "execution_count": 4,
   "outputs": [
    {
     "data": {
      "text/plain": "31738509"
     },
     "execution_count": 4,
     "metadata": {},
     "output_type": "execute_result"
    }
   ],
   "source": [
    "data_df.count()"
   ],
   "metadata": {
    "collapsed": false,
    "pycharm": {
     "name": "#%%\n"
    }
   }
  },
  {
   "cell_type": "code",
   "execution_count": 5,
   "outputs": [
    {
     "name": "stdout",
     "output_type": "stream",
     "text": [
      "root\n",
      " |-- titleId: string (nullable = true)\n",
      " |-- ordering: string (nullable = true)\n",
      " |-- title: string (nullable = true)\n",
      " |-- region: string (nullable = true)\n",
      " |-- language: string (nullable = true)\n",
      " |-- types: string (nullable = true)\n",
      " |-- attributes: string (nullable = true)\n",
      " |-- isOriginalTitle: string (nullable = true)\n",
      "\n"
     ]
    }
   ],
   "source": [
    "data_df.printSchema()"
   ],
   "metadata": {
    "collapsed": false,
    "pycharm": {
     "name": "#%%\n"
    }
   }
  },
  {
   "cell_type": "code",
   "execution_count": 9,
   "outputs": [
    {
     "name": "stdout",
     "output_type": "stream",
     "text": [
      "+---------+--------+---------+------+--------+-----------+--------------+---------------+\n",
      "|  titleId|ordering|    title|region|language|      types|    attributes|isOriginalTitle|\n",
      "+---------+--------+---------+------+--------+-----------+--------------+---------------+\n",
      "|tt0114709|      11|Toy Story|    NO|      \\N|imdbDisplay|            \\N|              0|\n",
      "|tt0114709|      13|Toy Story|    AE|      \\N|imdbDisplay|            \\N|              0|\n",
      "|tt0114709|      15|Toy Story|    UY|      \\N|         \\N|dubbed version|              0|\n",
      "|tt0114709|      16|Toy Story|    DK|      \\N|imdbDisplay|            \\N|              0|\n",
      "|tt0114709|      19|Toy Story|    \\N|      \\N|   original|            \\N|              1|\n",
      "|tt0114709|       1|Toy Story|    IN|      ta|imdbDisplay|            \\N|              0|\n",
      "|tt0114709|      23|Toy Story|    AR|      \\N|         \\N|            \\N|              0|\n",
      "|tt0114709|      26|Toy Story|    SE|      \\N|imdbDisplay|            \\N|              0|\n",
      "|tt0114709|      29|Toy Story|    IN|      ur|imdbDisplay|            \\N|              0|\n",
      "|tt0114709|      31|Toy Story|    IN|      ml|imdbDisplay|            \\N|              0|\n",
      "|tt0114709|      32|Toy Story|    IN|      gu|imdbDisplay|            \\N|              0|\n",
      "|tt0114709|      34|Toy Story|    IN|      en|imdbDisplay|            \\N|              0|\n",
      "|tt0114709|      35|Toy Story|    IN|      mr|imdbDisplay|            \\N|              0|\n",
      "|tt0114709|      38|Toy Story|    JP|      en|         \\N|            \\N|              0|\n",
      "|tt0114709|      39|Toy Story|    ES|      \\N|imdbDisplay|            \\N|              0|\n",
      "|tt0114709|      46|Toy Story|    PL|      \\N|         \\N|            \\N|              0|\n",
      "|tt0114709|      48|Toy Story|    GB|      \\N|imdbDisplay|            \\N|              0|\n",
      "|tt0114709|      49|Toy Story|    DE|      \\N|         \\N|            \\N|              0|\n",
      "|tt0114709|       4|Toy Story|    AU|      \\N|imdbDisplay|            \\N|              0|\n",
      "|tt0114709|      50|Toy Story|    US|      \\N|imdbDisplay|            \\N|              0|\n",
      "+---------+--------+---------+------+--------+-----------+--------------+---------------+\n",
      "only showing top 20 rows\n",
      "\n"
     ]
    }
   ],
   "source": [
    "data_df.select(\"*\").where(\"titleId = 'tt0114709' and title = 'Toy Story'\").show()"
   ],
   "metadata": {
    "collapsed": false,
    "pycharm": {
     "name": "#%%\n"
    }
   }
  }
 ],
 "metadata": {
  "kernelspec": {
   "display_name": "Python 3",
   "language": "python",
   "name": "python3"
  },
  "language_info": {
   "codemirror_mode": {
    "name": "ipython",
    "version": 2
   },
   "file_extension": ".py",
   "mimetype": "text/x-python",
   "name": "python",
   "nbconvert_exporter": "python",
   "pygments_lexer": "ipython2",
   "version": "2.7.6"
  }
 },
 "nbformat": 4,
 "nbformat_minor": 0
}