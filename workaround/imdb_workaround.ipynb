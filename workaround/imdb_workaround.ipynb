{
 "cells": [
  {
   "cell_type": "code",
   "execution_count": 1,
   "metadata": {
    "collapsed": true
   },
   "outputs": [],
   "source": [
    "from pyspark.sql import SparkSession\n",
    "spark = SparkSession.builder.appName(\"Capstone workaround\").getOrCreate()"
   ]
  },
  {
   "cell_type": "markdown",
   "source": [
    "# Quick analysis title.basics file"
   ],
   "metadata": {
    "collapsed": false
   }
  },
  {
   "cell_type": "code",
   "execution_count": 2,
   "outputs": [],
   "source": [
    "title_basic = spark.read.csv(\"../data/imdb_metadata/title.basics.tsv\", header=True, inferSchema=True, sep=\"\\t\")"
   ],
   "metadata": {
    "collapsed": false,
    "pycharm": {
     "name": "#%%\n"
    }
   }
  },
  {
   "cell_type": "code",
   "execution_count": 3,
   "outputs": [
    {
     "name": "stdout",
     "output_type": "stream",
     "text": [
      "root\n",
      " |-- tconst: string (nullable = true)\n",
      " |-- titleType: string (nullable = true)\n",
      " |-- primaryTitle: string (nullable = true)\n",
      " |-- originalTitle: string (nullable = true)\n",
      " |-- isAdult: string (nullable = true)\n",
      " |-- startYear: string (nullable = true)\n",
      " |-- endYear: string (nullable = true)\n",
      " |-- runtimeMinutes: string (nullable = true)\n",
      " |-- genres: string (nullable = true)\n",
      "\n"
     ]
    }
   ],
   "source": [
    "title_basic.printSchema()"
   ],
   "metadata": {
    "collapsed": false,
    "pycharm": {
     "name": "#%%\n"
    }
   }
  },
  {
   "cell_type": "markdown",
   "source": [
    "We only need tconst, primaryTitle, originalTitle, startYear, endYear, runtimeMinutes columns."
   ],
   "metadata": {
    "collapsed": false
   }
  },
  {
   "cell_type": "code",
   "execution_count": 4,
   "outputs": [],
   "source": [
    "cols = (\n",
    "    \"titleType\",\n",
    "    \"isAdult\",\n",
    "    \"genres\"\n",
    ")\n",
    "\n",
    "title_basic = title_basic.drop(*cols)"
   ],
   "metadata": {
    "collapsed": false,
    "pycharm": {
     "name": "#%%\n"
    }
   }
  },
  {
   "cell_type": "code",
   "execution_count": 5,
   "outputs": [
    {
     "name": "stdout",
     "output_type": "stream",
     "text": [
      "root\n",
      " |-- tconst: string (nullable = true)\n",
      " |-- primaryTitle: string (nullable = true)\n",
      " |-- originalTitle: string (nullable = true)\n",
      " |-- startYear: string (nullable = true)\n",
      " |-- endYear: string (nullable = true)\n",
      " |-- runtimeMinutes: string (nullable = true)\n",
      "\n"
     ]
    }
   ],
   "source": [
    "title_basic.printSchema()"
   ],
   "metadata": {
    "collapsed": false,
    "pycharm": {
     "name": "#%%\n"
    }
   }
  },
  {
   "cell_type": "markdown",
   "source": [
    "## Check for null value"
   ],
   "metadata": {
    "collapsed": false
   }
  },
  {
   "cell_type": "code",
   "execution_count": 29,
   "outputs": [
    {
     "data": {
      "text/plain": "8852149"
     },
     "execution_count": 29,
     "metadata": {},
     "output_type": "execute_result"
    }
   ],
   "source": [
    "title_basic.count()"
   ],
   "metadata": {
    "collapsed": false,
    "pycharm": {
     "name": "#%%\n"
    }
   }
  },
  {
   "cell_type": "code",
   "execution_count": 46,
   "outputs": [
    {
     "data": {
      "text/plain": "0"
     },
     "execution_count": 46,
     "metadata": {},
     "output_type": "execute_result"
    }
   ],
   "source": [
    "title_basic.filter(\"tconst is null\").count()"
   ],
   "metadata": {
    "collapsed": false,
    "pycharm": {
     "name": "#%%\n"
    }
   }
  },
  {
   "cell_type": "code",
   "execution_count": 47,
   "outputs": [
    {
     "data": {
      "text/plain": "0"
     },
     "execution_count": 47,
     "metadata": {},
     "output_type": "execute_result"
    }
   ],
   "source": [
    "title_basic.filter(\"originalTitle is null\").count()"
   ],
   "metadata": {
    "collapsed": false,
    "pycharm": {
     "name": "#%%\n"
    }
   }
  },
  {
   "cell_type": "code",
   "execution_count": 48,
   "outputs": [
    {
     "data": {
      "text/plain": "0"
     },
     "execution_count": 48,
     "metadata": {},
     "output_type": "execute_result"
    }
   ],
   "source": [
    "title_basic.filter(\"primaryTitle is null\").count()"
   ],
   "metadata": {
    "collapsed": false,
    "pycharm": {
     "name": "#%%\n"
    }
   }
  },
  {
   "cell_type": "markdown",
   "source": [
    "## Check for duplicates"
   ],
   "metadata": {
    "collapsed": false
   }
  },
  {
   "cell_type": "code",
   "execution_count": 40,
   "outputs": [
    {
     "data": {
      "text/plain": "True"
     },
     "execution_count": 40,
     "metadata": {},
     "output_type": "execute_result"
    }
   ],
   "source": [
    "title_basic.select(\"tconst\").distinct().count() == title_basic.count()"
   ],
   "metadata": {
    "collapsed": false,
    "pycharm": {
     "name": "#%%\n"
    }
   }
  },
  {
   "cell_type": "code",
   "execution_count": 56,
   "outputs": [
    {
     "data": {
      "text/plain": "False"
     },
     "execution_count": 56,
     "metadata": {},
     "output_type": "execute_result"
    }
   ],
   "source": [
    "title_basic.select(\"originalTitle\").distinct().count() == title_basic.count()"
   ],
   "metadata": {
    "collapsed": false,
    "pycharm": {
     "name": "#%%\n"
    }
   }
  },
  {
   "cell_type": "markdown",
   "source": [
    "The number of distinct value for originalTitle is not equal to the number of rows in the table, so there are duplicate values for this column. And by that, we need to find those values to investigate."
   ],
   "metadata": {
    "collapsed": false
   }
  },
  {
   "cell_type": "code",
   "execution_count": 53,
   "outputs": [
    {
     "name": "stdout",
     "output_type": "stream",
     "text": [
      "+--------------------+--------------------+\n",
      "|       originalTitle|count(originalTitle)|\n",
      "+--------------------+--------------------+\n",
      "|La descente de croix|                   2|\n",
      "|    Master and Pupil|                   2|\n",
      "|          Quo Vadis?|                  10|\n",
      "|        The Kangaroo|                   9|\n",
      "|    The Star Boarder|                   6|\n",
      "|      As It Happened|                   2|\n",
      "|            Gladiola|                   2|\n",
      "|The Moth and the ...|                   5|\n",
      "|    The Stool Pigeon|                   5|\n",
      "|  The Vivisectionist|                   2|\n",
      "|                Zaza|                   9|\n",
      "|     A Maid to Order|                   2|\n",
      "|     Saved by a Song|                   2|\n",
      "|       Anything Once|                   4|\n",
      "|            The Moth|                  20|\n",
      "|His Majesty, Bunk...|                   2|\n",
      "|       The One Woman|                   3|\n",
      "|    Between the Acts|                   2|\n",
      "|     Marion de Lorme|                   2|\n",
      "|   The Branding Iron|                   2|\n",
      "+--------------------+--------------------+\n",
      "only showing top 20 rows\n",
      "\n"
     ]
    }
   ],
   "source": [
    "title_basic.select(\"originalTitle\").groupby(\"originalTitle\").agg({\"originalTitle\": \"count\"}).where(\"count(1) > 1\").show()"
   ],
   "metadata": {
    "collapsed": false,
    "pycharm": {
     "name": "#%%\n"
    }
   }
  },
  {
   "cell_type": "markdown",
   "source": [
    "Those above are the duplicate values. We will choose one of them to see in details."
   ],
   "metadata": {
    "collapsed": false
   }
  },
  {
   "cell_type": "code",
   "execution_count": 78,
   "outputs": [
    {
     "name": "stdout",
     "output_type": "stream",
     "text": [
      "+----------+------------------+-------------+---------+-------+--------------+\n",
      "|    tconst|      primaryTitle|originalTitle|startYear|endYear|runtimeMinutes|\n",
      "+----------+------------------+-------------+---------+-------+--------------+\n",
      "| tt0008321|          The Moth|     The Moth|     1917|     \\N|            72|\n",
      "| tt0025518|          The Moth|     The Moth|     1934|     \\N|            64|\n",
      "| tt0118405|          The Moth|     The Moth|     1997|     \\N|           152|\n",
      "| tt0410334|          The Moth|     The Moth|     1911|     \\N|            10|\n",
      "| tt0566835|          The Moth|     The Moth|     1961|     \\N|            30|\n",
      "| tt0636298|          The Moth|     The Moth|     2004|     \\N|            43|\n",
      "| tt0716993|          The Moth|     The Moth|     1987|     \\N|            30|\n",
      "| tt0799885|          The Moth|     The Moth|     2002|     \\N|            60|\n",
      "| tt1195784|          The Moth|     The Moth|     1914|     \\N|            10|\n",
      "|tt12511248|Moth Directors Cut|     The Moth|     2024|     \\N|            \\N|\n",
      "| tt1332741|          The Moth|     The Moth|     2007|     \\N|            \\N|\n",
      "|tt13701650|          The Moth|     The Moth|       \\N|     \\N|            \\N|\n",
      "| tt1387413|          The Moth|     The Moth|     2008|     \\N|             4|\n",
      "|tt14385912|          The Moth|     The Moth|     2018|     \\N|            \\N|\n",
      "|tt16496750|          The Moth|     The Moth|     2020|     \\N|            10|\n",
      "| tt4609162|          The Moth|     The Moth|     2007|     \\N|            \\N|\n",
      "| tt5441430|          The Moth|     The Moth|     2016|     \\N|            22|\n",
      "| tt6143420|          The Moth|     The Moth|     2017|     \\N|            15|\n",
      "| tt8134988|          The Moth|     The Moth|     2018|     \\N|            \\N|\n",
      "| tt9826612|          The Moth|     The Moth|     2019|     \\N|            10|\n",
      "+----------+------------------+-------------+---------+-------+--------------+\n",
      "\n"
     ]
    }
   ],
   "source": [
    "title_basic.select(\"*\").where(\"originalTitle = 'The Moth'\").show()"
   ],
   "metadata": {
    "collapsed": false,
    "pycharm": {
     "name": "#%%\n"
    }
   }
  },
  {
   "cell_type": "markdown",
   "source": [
    "Although the originalTitle are the same, but all the tconst are different. So does startYear values. This mean this movie has multiple versions, so it is not wrong value."
   ],
   "metadata": {
    "collapsed": false
   }
  },
  {
   "cell_type": "markdown",
   "source": [
    "## Check for wrong value"
   ],
   "metadata": {
    "collapsed": false
   }
  },
  {
   "cell_type": "markdown",
   "source": [
    "startYear and endYear must be number (can have null) and startYear must be less than or equal to endYear."
   ],
   "metadata": {
    "collapsed": false
   }
  },
  {
   "cell_type": "code",
   "execution_count": 7,
   "outputs": [
    {
     "data": {
      "text/plain": "0"
     },
     "execution_count": 7,
     "metadata": {},
     "output_type": "execute_result"
    }
   ],
   "source": [
    "title_basic.filter(\"startYear > endYear\").count()"
   ],
   "metadata": {
    "collapsed": false,
    "pycharm": {
     "name": "#%%\n"
    }
   }
  },
  {
   "cell_type": "code",
   "execution_count": null,
   "outputs": [],
   "source": [],
   "metadata": {
    "collapsed": false,
    "pycharm": {
     "name": "#%%\n"
    }
   }
  },
  {
   "cell_type": "markdown",
   "source": [
    "# Quick analysis sample.json file\n",
    "The sample.json is a subset of data in imdb_ratings data. It will represent the method of analysis."
   ],
   "metadata": {
    "collapsed": false,
    "pycharm": {
     "name": "#%% md\n"
    }
   }
  },
  {
   "cell_type": "code",
   "execution_count": 65,
   "outputs": [],
   "source": [
    "ratings = spark.read.json(\"../data/imdb_ratings/sample.json\", multiLine=True)"
   ],
   "metadata": {
    "collapsed": false,
    "pycharm": {
     "name": "#%%\n"
    }
   }
  },
  {
   "cell_type": "code",
   "execution_count": 68,
   "outputs": [
    {
     "name": "stdout",
     "output_type": "stream",
     "text": [
      "+--------------------+------+------------+---------+-------------------+\n",
      "|               movie|rating| review_date|review_id|           reviewer|\n",
      "+--------------------+------+------------+---------+-------------------+\n",
      "|Kill Bill: Vol. 2...|     8|24 July 2005|rw1133942|OriginalMovieBuff21|\n",
      "|Journey to the Un...|  null|24 July 2005|rw1133943|           sentra14|\n",
      "|   The Island (2005)|     9|24 July 2005|rw1133946|  GreenwheelFan2002|\n",
      "|Win a Date with T...|     3|24 July 2005|rw1133948|     itsascreambaby|\n",
      "|Saturday Night Li...|    10|24 July 2005|rw1133949|OriginalMovieBuff21|\n",
      "|Outlaw Star (1998– )|    10|24 July 2005|rw1133950|          Aaron1375|\n",
      "|  The Aviator (2004)|    10|24 July 2005|rw1133952| TheFilmConnoisseur|\n",
      "|Star Wars: Episod...|     9|24 July 2005|rw1133953|        swansongang|\n",
      "|The Amityville Ho...|     3|24 July 2005|rw1133954|             diand_|\n",
      "|Flying Tigers (1942)|     6|24 July 2005|rw1133955|         btillman63|\n",
      "|Phantasm III: Lor...|     6|24 July 2005|rw1133956|          Aaron1375|\n",
      "|The Truth About C...|     1|24 July 2005|rw1133957|         agent_mohr|\n",
      "|Trainspotting (1996)|     1|24 July 2005|rw1133958|            garyr-2|\n",
      "|   Feardotcom (2002)|     3|24 July 2005|rw1133959|      lost-in-limbo|\n",
      "|The Mansion of Ma...|     7|24 July 2005|rw1133960|           NateManD|\n",
      "|The Venture Bros....|  null|24 July 2005|rw1133961|          Aaron1375|\n",
      "| Mean Streets (1973)|    10|24 July 2005|rw1133964| TheFilmConnoisseur|\n",
      "|   Madagascar (2005)|    10|24 July 2005|rw1133965|           film-246|\n",
      "|Il turco in Itali...|     6|24 July 2005|rw1133967|            Rosabel|\n",
      "|The Man Who Would...|     9|24 July 2005|rw1133968|        mcdougaller|\n",
      "+--------------------+------+------------+---------+-------------------+\n",
      "only showing top 20 rows\n",
      "\n"
     ]
    }
   ],
   "source": [
    "ratings.show()"
   ],
   "metadata": {
    "collapsed": false,
    "pycharm": {
     "name": "#%%\n"
    }
   }
  },
  {
   "cell_type": "code",
   "execution_count": 58,
   "outputs": [
    {
     "name": "stdout",
     "output_type": "stream",
     "text": [
      "root\n",
      " |-- helpful: array (nullable = true)\n",
      " |    |-- element: string (containsNull = true)\n",
      " |-- movie: string (nullable = true)\n",
      " |-- rating: string (nullable = true)\n",
      " |-- review_date: string (nullable = true)\n",
      " |-- review_detail: string (nullable = true)\n",
      " |-- review_id: string (nullable = true)\n",
      " |-- review_summary: string (nullable = true)\n",
      " |-- reviewer: string (nullable = true)\n",
      " |-- spoiler_tag: long (nullable = true)\n",
      "\n"
     ]
    }
   ],
   "source": [
    "ratings.printSchema()"
   ],
   "metadata": {
    "collapsed": false,
    "pycharm": {
     "name": "#%%\n"
    }
   }
  },
  {
   "cell_type": "markdown",
   "source": [
    "We only need movie, rating, review_date, review_id, reviewer columns."
   ],
   "metadata": {
    "collapsed": false
   }
  },
  {
   "cell_type": "code",
   "execution_count": 66,
   "outputs": [],
   "source": [
    "cols = (\"helpful\", \"review_detail\", \"review_summary\", \"spoiler_tag\")\n",
    "ratings = ratings.drop(*cols)"
   ],
   "metadata": {
    "collapsed": false,
    "pycharm": {
     "name": "#%%\n"
    }
   }
  },
  {
   "cell_type": "code",
   "execution_count": 59,
   "outputs": [
    {
     "data": {
      "text/plain": "100000"
     },
     "execution_count": 59,
     "metadata": {},
     "output_type": "execute_result"
    }
   ],
   "source": [
    "ratings.count()"
   ],
   "metadata": {
    "collapsed": false,
    "pycharm": {
     "name": "#%%\n"
    }
   }
  },
  {
   "cell_type": "markdown",
   "source": [
    "## Check for null value"
   ],
   "metadata": {
    "collapsed": false
   }
  },
  {
   "cell_type": "code",
   "execution_count": 60,
   "outputs": [
    {
     "data": {
      "text/plain": "0"
     },
     "execution_count": 60,
     "metadata": {},
     "output_type": "execute_result"
    }
   ],
   "source": [
    "ratings.filter(\"movie is null\").count()"
   ],
   "metadata": {
    "collapsed": false,
    "pycharm": {
     "name": "#%%\n"
    }
   }
  },
  {
   "cell_type": "code",
   "execution_count": 61,
   "outputs": [
    {
     "data": {
      "text/plain": "12092"
     },
     "execution_count": 61,
     "metadata": {},
     "output_type": "execute_result"
    }
   ],
   "source": [
    "ratings.filter(\"rating is null\").count()"
   ],
   "metadata": {
    "collapsed": false,
    "pycharm": {
     "name": "#%%\n"
    }
   }
  },
  {
   "cell_type": "markdown",
   "source": [
    "Rating column has null values. We will check on that."
   ],
   "metadata": {
    "collapsed": false
   }
  },
  {
   "cell_type": "code",
   "execution_count": 67,
   "outputs": [
    {
     "name": "stdout",
     "output_type": "stream",
     "text": [
      "+--------------------+------+------------+---------+--------------------+\n",
      "|               movie|rating| review_date|review_id|            reviewer|\n",
      "+--------------------+------+------------+---------+--------------------+\n",
      "|Journey to the Un...|  null|24 July 2005|rw1133943|            sentra14|\n",
      "|The Venture Bros....|  null|24 July 2005|rw1133961|           Aaron1375|\n",
      "|Good Times (1974–...|  null|24 July 2005|rw1133976|      sheworexacharm|\n",
      "|Donny and Marie (...|  null|24 July 2005|rw1133979|        Manningmilt1|\n",
      "|An Affair to Reme...|  null|24 July 2005|rw1133980|   Myshkin_Karamazov|\n",
      "|Johnny Guitar (1954)|  null|24 July 2005|rw1133981|           thirsch-2|\n",
      "|    All of Me (1984)|  null|24 July 2005|rw1133991|              TxMike|\n",
      "|    Used Cars (1980)|  null|24 July 2005|rw1133997|aliasanythingyouwant|\n",
      "|Pizza My Heart (2...|  null|24 July 2005|rw1134016|   HallmarkMovieBuff|\n",
      "|    Liar Liar (1997)|  null|24 July 2005|rw1134017|           goleafs84|\n",
      "|   The Fear (1988– )|  null|24 July 2005|rw1134020|               gut-6|\n",
      "|Good Times (1974–...|  null|24 July 2005|rw1134040|            bintibop|\n",
      "|The Machinist (2004)|  null|24 July 2005|rw1134075|       MarcelPetit25|\n",
      "|Drake & Josh (200...|  null|23 July 2005|rw1134098|            say_no87|\n",
      "|Spice World: The ...|  null|24 July 2005|rw1134110|            clever-7|\n",
      "|P.I.S. - Politiet...|  null|23 July 2005|rw1134133|                8537|\n",
      "| Love Bytes (2004– )|  null|24 July 2005|rw1134160|                exxy|\n",
      "|A Different World...|  null|24 July 2005|rw1134182|            Junie_14|\n",
      "|     Nukkad (1986– )|  null|22 July 2005|rw1134194|           deven2123|\n",
      "|  Extras (2005–2007)|  null|22 July 2005|rw1134220|           Mark-1384|\n",
      "+--------------------+------+------------+---------+--------------------+\n",
      "only showing top 20 rows\n",
      "\n"
     ]
    }
   ],
   "source": [
    "ratings.select(\"*\").where(\"rating is null\").show()"
   ],
   "metadata": {
    "collapsed": false,
    "pycharm": {
     "name": "#%%\n"
    }
   }
  },
  {
   "cell_type": "markdown",
   "source": [
    "We do not know if these ratings are representing for how many stars (from 1-10) so the best solution is to drop them."
   ],
   "metadata": {
    "collapsed": false
   }
  },
  {
   "cell_type": "code",
   "execution_count": 69,
   "outputs": [],
   "source": [
    "ratings = ratings.filter(\"rating is not null\")"
   ],
   "metadata": {
    "collapsed": false,
    "pycharm": {
     "name": "#%%\n"
    }
   }
  },
  {
   "cell_type": "code",
   "execution_count": 70,
   "outputs": [
    {
     "data": {
      "text/plain": "87908"
     },
     "execution_count": 70,
     "metadata": {},
     "output_type": "execute_result"
    }
   ],
   "source": [
    "ratings.count()"
   ],
   "metadata": {
    "collapsed": false,
    "pycharm": {
     "name": "#%%\n"
    }
   }
  },
  {
   "cell_type": "code",
   "execution_count": 71,
   "outputs": [
    {
     "data": {
      "text/plain": "0"
     },
     "execution_count": 71,
     "metadata": {},
     "output_type": "execute_result"
    }
   ],
   "source": [
    "ratings.filter(\"review_date is null\").count()"
   ],
   "metadata": {
    "collapsed": false,
    "pycharm": {
     "name": "#%%\n"
    }
   }
  },
  {
   "cell_type": "code",
   "execution_count": 72,
   "outputs": [
    {
     "data": {
      "text/plain": "0"
     },
     "execution_count": 72,
     "metadata": {},
     "output_type": "execute_result"
    }
   ],
   "source": [
    "ratings.filter(\"reviewer is null\").count()"
   ],
   "metadata": {
    "collapsed": false,
    "pycharm": {
     "name": "#%%\n"
    }
   }
  },
  {
   "cell_type": "markdown",
   "source": [
    "## Check for duplicates\n",
    "\n",
    "In theory, 1 reviewer can only rate 1 movie at a time. But the value in review_date is date format, not timestamp with seconds. So a reviewer can reviews a movie at the morning, and modify his/her review later in the day, so this is acceptable. And by that we do not need to check for duplicates."
   ],
   "metadata": {
    "collapsed": false,
    "pycharm": {
     "name": "#%% md\n"
    }
   }
  }
 ],
 "metadata": {
  "kernelspec": {
   "display_name": "Python 3",
   "language": "python",
   "name": "python3"
  },
  "language_info": {
   "codemirror_mode": {
    "name": "ipython",
    "version": 2
   },
   "file_extension": ".py",
   "mimetype": "text/x-python",
   "name": "python",
   "nbconvert_exporter": "python",
   "pygments_lexer": "ipython2",
   "version": "2.7.6"
  }
 },
 "nbformat": 4,
 "nbformat_minor": 0
}